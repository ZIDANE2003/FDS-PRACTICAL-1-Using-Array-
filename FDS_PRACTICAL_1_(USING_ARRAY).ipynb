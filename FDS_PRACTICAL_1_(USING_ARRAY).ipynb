{
  "nbformat": 4,
  "nbformat_minor": 0,
  "metadata": {
    "colab": {
      "name": "FDS PRACTICAL 1 (USING ARRAY)",
      "provenance": [],
      "collapsed_sections": [],
      "include_colab_link": true
    },
    "kernelspec": {
      "display_name": "Python 3",
      "name": "python3"
    }
  },
  "cells": [
    {
      "cell_type": "markdown",
      "metadata": {
        "id": "view-in-github",
        "colab_type": "text"
      },
      "source": [
        "<a href=\"https://colab.research.google.com/github/ZIDANE2003/FDS-PRACTICAL-1-Using-Array-/blob/main/FDS_PRACTICAL_1_(USING_ARRAY).ipynb\" target=\"_parent\"><img src=\"https://colab.research.google.com/assets/colab-badge.svg\" alt=\"Open In Colab\"/></a>"
      ]
    },
    {
      "cell_type": "code",
      "metadata": {
        "id": "nolJI8akUfZi",
        "colab": {
          "base_uri": "https://localhost:8080/"
        },
        "outputId": "eabb23f4-fe36-4a98-c828-6a3a31295fb1"
      },
      "source": [
        "import array as a\n",
        "avg=0\n",
        "count=0\n",
        "print(\"Enter number of students\")\n",
        "n=int(input())\n",
        "ip=a.array('i',[])\n",
        "\n",
        "for i in range(0,n):\n",
        "  ip.append(int(input(\"enter no of marks of students \")))\n",
        "print(ip)  \n",
        "for i in ip:\n",
        "  count=count+i\n",
        "  avg=count/n\n",
        "print(\"Sum of marks of students is: \",count)\n",
        "print(\"Average of marks of sudents is:\",avg)\n",
        "max=ip[0]\n",
        "for i in range (0,n):\n",
        "  if(ip[i]>max):\n",
        "    max=ip[i]\n",
        "print(\"maximum marks of student is:\",max)\n",
        "min=ip[0]\n",
        "for i in range (0,n):\n",
        "  if(ip[i]<min):\n",
        "    min=ip[i]\n",
        "print(\"minimum marksof student is: \",min) \n",
        "high = 0\n",
        "freq=ip[0]\n",
        "for i in ip:\n",
        "  marks=ip.count(i)\n",
        "  if marks>high:\n",
        "    high=marks\n",
        "    freq=i\n",
        "print(\" marks with highest frequency\",freq)\n",
        "abst=0\n",
        "for i in ip:\n",
        "  if i ==-999:\n",
        "    abst=abst+1\n",
        "print(\"absent students \",abst)         \n",
        "\n",
        "\n"
      ],
      "execution_count": 2,
      "outputs": [
        {
          "output_type": "stream",
          "name": "stdout",
          "text": [
            "Enter number of students\n",
            "5\n",
            "enter no of marks of students 25\n",
            "enter no of marks of students 19\n",
            "enter no of marks of students 20\n",
            "enter no of marks of students 20\n",
            "enter no of marks of students 13\n",
            "array('i', [25, 19, 20, 20, 13])\n",
            "Sum of marks of students is:  97\n",
            "Average of marks of sudents is: 19.4\n",
            "maximum marks of student is: 25\n",
            "minimum marksof student is:  13\n",
            " marks with highest frequency 20\n",
            "absent students  0\n"
          ]
        }
      ]
    },
    {
      "cell_type": "code",
      "metadata": {
        "id": "YNyTMwyUWQMl"
      },
      "source": [
        ""
      ],
      "execution_count": null,
      "outputs": []
    }
  ]
}